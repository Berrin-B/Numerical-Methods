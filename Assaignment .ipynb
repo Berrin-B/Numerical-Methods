{
    "cells": [
        {
            "cell_type": "markdown",
            "metadata": {
                "collapsed": true
            },
            "source": "My Jupyter Notebook on IBM Watson Studio"
        },
        {
            "cell_type": "markdown",
            "metadata": {},
            "source": "**Berrin Bilgin** \n\nData Analyst"
        },
        {
            "cell_type": "markdown",
            "metadata": {},
            "source": "*I attended Computational Physics courses at collage and got interested in statistical analysis. Then I realized that I both like computing and statistics. That's why I got interested in data science.*"
        },
        {
            "cell_type": "markdown",
            "metadata": {},
            "source": "The code below prints the statement that I write inside the parantheses. When I use '', it prints what's inside as text. After the comma, it does the calculation and prints the result."
        },
        {
            "cell_type": "code",
            "execution_count": 1,
            "metadata": {},
            "outputs": [
                {
                    "name": "stdout",
                    "output_type": "stream",
                    "text": "1+1= 2\n"
                }
            ],
            "source": "print(\"1+1=\",1+1)"
        },
        {
            "cell_type": "markdown",
            "metadata": {},
            "source": "- Monday\n- Tuesday\n- Wednesday\n\n> This is a blockquote.\n\n1. January\n2. February\n3. March"
        },
        {
            "cell_type": "code",
            "execution_count": null,
            "metadata": {},
            "outputs": [],
            "source": ""
        }
    ],
    "metadata": {
        "kernelspec": {
            "display_name": "Python 3.9",
            "language": "python",
            "name": "python3"
        },
        "language_info": {
            "codemirror_mode": {
                "name": "ipython",
                "version": 3
            },
            "file_extension": ".py",
            "mimetype": "text/x-python",
            "name": "python",
            "nbconvert_exporter": "python",
            "pygments_lexer": "ipython3",
            "version": "3.9.12"
        }
    },
    "nbformat": 4,
    "nbformat_minor": 1
}